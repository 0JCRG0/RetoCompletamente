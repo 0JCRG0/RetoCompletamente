{
 "cells": [
  {
   "cell_type": "code",
   "execution_count": null,
   "metadata": {},
   "outputs": [],
   "source": [
    "import pandas as pd"
   ]
  },
  {
   "cell_type": "code",
   "execution_count": null,
   "metadata": {},
   "outputs": [],
   "source": [
    "df = pd.read_csv(\"/Users/juanreyesgarcia/Dev/Python/Django/reto/DreamedJobAI/Conocete_con_CompletaMente.csv\")"
   ]
  },
  {
   "cell_type": "code",
   "execution_count": null,
   "metadata": {},
   "outputs": [],
   "source": [
    "df.info()"
   ]
  },
  {
   "cell_type": "markdown",
   "metadata": {},
   "source": [
    "# Proceso\n",
    "1. Dividir datos en tablas para mejor visualización, análisis y escalabilidad.\n",
    "2. "
   ]
  },
  {
   "cell_type": "markdown",
   "metadata": {},
   "source": [
    "# Preguntas\n",
    "1. ¿Hay alguna razón por la cual las preguntas no tienen respuestas uniformes?\n",
    "2. El total de las preguntas de los cuestionarios son en teoría 25 pero el total de todas las"
   ]
  },
  {
   "cell_type": "markdown",
   "metadata": {},
   "source": [
    "# Sugerencias \n",
    "1. Poner labels para categorizar que pregunta pertenece a tal cuestionario.\n",
    "2. Incorporar esto en postgresql no en un excel.\n",
    "3. Poner un primary key en \"General\" en ID, todas las demas tables deberían de tener un foreing key que sea ID.\n"
   ]
  },
  {
   "cell_type": "code",
   "execution_count": null,
   "metadata": {},
   "outputs": [],
   "source": [
    "ansiedad = [0, 12, 13, 19, 20, 21, 22, 23, 24, 25, 26, 27, 47]"
   ]
  },
  {
   "cell_type": "code",
   "execution_count": null,
   "metadata": {},
   "outputs": [],
   "source": [
    "#CONSISTENCIA NO IMPORTA\n",
    "General = [0, 1, 2, 3, 4, 5, 6, 7, 8, 9, 10, 11, 36, 37, 38, 58]"
   ]
  },
  {
   "cell_type": "code",
   "execution_count": null,
   "metadata": {},
   "outputs": [],
   "source": [
    "#14 is str rest is int\n",
    "cuidado_fisico = [0, 14, 15, 16, 17, 18]"
   ]
  },
  {
   "cell_type": "code",
   "execution_count": null,
   "metadata": {},
   "outputs": [],
   "source": [
    "#All answers are consistent\n",
    "depresion = [0, 28, 29, 30, 31, 32, 33, 34, 35]"
   ]
  },
  {
   "cell_type": "code",
   "execution_count": null,
   "metadata": {},
   "outputs": [],
   "source": [
    "#All answers are consistent\n",
    "burnout = [0, 39, 40, 41, 42, 43, 44, 45, 46, 47, 48]"
   ]
  },
  {
   "cell_type": "code",
   "execution_count": null,
   "metadata": {},
   "outputs": [],
   "source": [
    "#All answers are consistent\n",
    "uwes = [0, 49, 50, 51, 52, 53, 54, 55, 56, 57]"
   ]
  }
 ],
 "metadata": {
  "kernelspec": {
   "display_name": "venv",
   "language": "python",
   "name": "python3"
  },
  "language_info": {
   "codemirror_mode": {
    "name": "ipython",
    "version": 3
   },
   "file_extension": ".py",
   "mimetype": "text/x-python",
   "name": "python",
   "nbconvert_exporter": "python",
   "pygments_lexer": "ipython3",
   "version": "3.10.6"
  }
 },
 "nbformat": 4,
 "nbformat_minor": 2
}
